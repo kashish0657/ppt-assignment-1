{
 "cells": [
  {
   "cell_type": "markdown",
   "id": "6dc10fce-34c4-4a7e-9527-ddc0b5d0a183",
   "metadata": {},
   "source": [
    "## PPT ASSIGNMENT 1"
   ]
  },
  {
   "cell_type": "markdown",
   "id": "e84735b1-de8b-42e9-b26d-65a6d6b09bfe",
   "metadata": {},
   "source": [
    "## 1:ans:-"
   ]
  },
  {
   "cell_type": "code",
   "execution_count": 3,
   "id": "e3bf38e9-d7bf-4073-af97-c10ac25268aa",
   "metadata": {},
   "outputs": [],
   "source": [
    "def two_sum(num , target):\n",
    "    num_dict = {}\n",
    "    for i, num in enumerate(nums):\n",
    "        complement = target - num\n",
    "        if complement in num_dict:\n",
    "            return [num_dict[complement], i]\n",
    "        num_dict[num] = i\n",
    "    return [] "
   ]
  },
  {
   "cell_type": "markdown",
   "id": "0837821f-a753-46a1-8526-2055bb5553ca",
   "metadata": {},
   "source": [
    "## 2.ans:-"
   ]
  },
  {
   "cell_type": "code",
   "execution_count": 4,
   "id": "06ceb6fe-4820-4076-8573-bd84b54b8402",
   "metadata": {},
   "outputs": [],
   "source": [
    "def removeElement(nums, val):\n",
    "    i = 0\n",
    "    k = 0\n",
    "\n",
    "    for num in nums:\n",
    "        if num != val:\n",
    "            nums[i] = num\n",
    "            i += 1\n",
    "            k += 1\n",
    "\n",
    "    return k\n"
   ]
  },
  {
   "cell_type": "markdown",
   "id": "aee3c542-61e7-483d-b894-b2e3ff1c63df",
   "metadata": {},
   "source": [
    "## 3.ans:-"
   ]
  },
  {
   "cell_type": "code",
   "execution_count": null,
   "id": "e26dec30-2156-45db-9504-eb222fac00eb",
   "metadata": {},
   "outputs": [],
   "source": [
    "def search_insert(nums, target):\n",
    "    low, high = 0, len(nums) - 1\n",
    "    \n",
    "    while low <= high:\n",
    "        mid = (low + high) // 2\n",
    "        \n",
    "        if nums[mid] == target:\n",
    "            return mid\n",
    "        \n",
    "        if nums[mid] < target:\n",
    "            low = mid + 1\n",
    "        else:\n",
    "            high = mid - 1\n",
    "    \n",
    "    return low\n"
   ]
  },
  {
   "cell_type": "markdown",
   "id": "ec30a45a-9eca-49c8-896b-1b3711147451",
   "metadata": {},
   "source": [
    "## 4.ans:-"
   ]
  },
  {
   "cell_type": "code",
   "execution_count": 5,
   "id": "513066e3-82d1-4b36-ad37-83629c185b2f",
   "metadata": {},
   "outputs": [],
   "source": [
    "def increment_large_integer(digits):\n",
    "    carry = 1\n",
    "    for i in range(len(digits)-1, -1, -1):\n",
    "        digits[i] += carry\n",
    "        carry = digits[i] // 10\n",
    "        digits[i] %= 10\n",
    "\n",
    "    if carry:\n",
    "        digits.insert(0, carry)\n",
    "\n",
    "    return digits\n"
   ]
  },
  {
   "cell_type": "code",
   "execution_count": 6,
   "id": "14c7a70e-e711-4fbd-8d47-f8ee42c9e49b",
   "metadata": {},
   "outputs": [
    {
     "name": "stdout",
     "output_type": "stream",
     "text": [
      "[1, 3, 0]\n"
     ]
    }
   ],
   "source": [
    "digits = [1, 2, 9]  # Represents the integer 129\n",
    "result = increment_large_integer(digits)\n",
    "print(result)  # Output: [1, 3, 0]  # Represents the integer 130\n"
   ]
  },
  {
   "cell_type": "markdown",
   "id": "ad069607-f901-4506-b89b-eca769c53b82",
   "metadata": {},
   "source": [
    "## 5.ans:-"
   ]
  },
  {
   "cell_type": "code",
   "execution_count": 7,
   "id": "cb364f40-e420-49df-9f2a-8c9c9a013412",
   "metadata": {},
   "outputs": [],
   "source": [
    "def merge(nums1, m, nums2, n):\n",
    "    # Initialize pointers for nums1, nums2, and the merged array\n",
    "    p1 = m - 1\n",
    "    p2 = n - 1\n",
    "    p = m + n - 1\n",
    "    \n",
    "    # Merge the arrays starting from the end\n",
    "    while p1 >= 0 and p2 >= 0:\n",
    "        if nums1[p1] <= nums2[p2]:\n",
    "            nums1[p] = nums2[p2]\n",
    "            p2 -= 1\n",
    "        else:\n",
    "            nums1[p] = nums1[p1]\n",
    "            p1 -= 1\n",
    "        p -= 1\n",
    "    \n",
    "    # If there are remaining elements in nums2, copy them to nums1\n",
    "    nums1[:p2 + 1] = nums2[:p2 + 1]"
   ]
  },
  {
   "cell_type": "code",
   "execution_count": 8,
   "id": "376785b2-1911-48b8-ae7e-e2d498386261",
   "metadata": {},
   "outputs": [
    {
     "name": "stdout",
     "output_type": "stream",
     "text": [
      "[1, 2, 2, 3, 5, 6]\n"
     ]
    }
   ],
   "source": [
    "nums1 = [1, 2, 3, 0, 0, 0]\n",
    "m = 3\n",
    "nums2 = [2, 5, 6]\n",
    "n = 3\n",
    "\n",
    "# Merge the arrays\n",
    "merge(nums1, m, nums2, n)\n",
    "\n",
    "# Output\n",
    "print(nums1)"
   ]
  },
  {
   "cell_type": "markdown",
   "id": "5c2e1971-c3f2-4b33-a855-2e83fcb89c3a",
   "metadata": {},
   "source": [
    "## 6.ans:-"
   ]
  },
  {
   "cell_type": "code",
   "execution_count": 9,
   "id": "6f28ff1c-e02f-47ce-b306-e3054beeb60a",
   "metadata": {},
   "outputs": [],
   "source": [
    "def containsDuplicate(nums):\n",
    "    seen = set()\n",
    "    for num in nums:\n",
    "        if num in seen:\n",
    "            return True\n",
    "        seen.add(num)\n",
    "    return False\n"
   ]
  },
  {
   "cell_type": "markdown",
   "id": "da5f1024-fdf5-42fd-9f3b-5b97e0fa9912",
   "metadata": {},
   "source": [
    "## 7.ans:-"
   ]
  },
  {
   "cell_type": "code",
   "execution_count": null,
   "id": "a17bbe71-50f9-4cd7-83ed-efd0ac4b2235",
   "metadata": {},
   "outputs": [],
   "source": [
    "def move_zeros(nums):\n",
    "    left = right = 0\n",
    "\n",
    "    while right < len(nums):\n",
    "        if nums[right] != 0:\n",
    "            nums[left], nums[right] = nums[right], nums[left]\n",
    "            left += 1\n",
    "        right += 1"
   ]
  },
  {
   "cell_type": "markdown",
   "id": "1fb70c4e-b01f-4e7e-8994-02b4ac0ee7b0",
   "metadata": {},
   "source": [
    "## 8.ans:-"
   ]
  },
  {
   "cell_type": "code",
   "execution_count": null,
   "id": "13673bfc-042b-42d7-b8e4-57dbdb1c1f01",
   "metadata": {},
   "outputs": [],
   "source": []
  }
 ],
 "metadata": {
  "kernelspec": {
   "display_name": "Python 3 (ipykernel)",
   "language": "python",
   "name": "python3"
  },
  "language_info": {
   "codemirror_mode": {
    "name": "ipython",
    "version": 3
   },
   "file_extension": ".py",
   "mimetype": "text/x-python",
   "name": "python",
   "nbconvert_exporter": "python",
   "pygments_lexer": "ipython3",
   "version": "3.10.8"
  }
 },
 "nbformat": 4,
 "nbformat_minor": 5
}
